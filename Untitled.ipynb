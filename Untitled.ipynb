{
 "cells": [
  {
   "cell_type": "markdown",
   "id": "f41c775f",
   "metadata": {},
   "source": [
    "# Introduction to Machine Learning"
   ]
  },
  {
   "cell_type": "code",
   "execution_count": null,
   "id": "26eb47a5",
   "metadata": {},
   "outputs": [],
   "source": [
    "Machine is a branch of AI that focus on building algorithm to train machine to learn from historical data to predict\n",
    "what may happen in the future"
   ]
  },
  {
   "cell_type": "markdown",
   "id": "de95897c",
   "metadata": {},
   "source": [
    "# Type of Machine Learning model"
   ]
  },
  {
   "cell_type": "code",
   "execution_count": null,
   "id": "bec36bcd",
   "metadata": {},
   "outputs": [],
   "source": [
    "supervise learning: A type of learning whereby a training is being supervised\n",
    "a.regression: We try to map the input with the output\n",
    "b.classification: Classifying datapoint into groups based on similarities\n",
    "\n",
    "unsupervise learning:\n",
    "a.clustering\n",
    "b.association"
   ]
  },
  {
   "cell_type": "code",
   "execution_count": null,
   "id": "5898840d",
   "metadata": {},
   "outputs": [],
   "source": [
    "sklearn"
   ]
  },
  {
   "cell_type": "code",
   "execution_count": null,
   "id": "5424d325",
   "metadata": {},
   "outputs": [],
   "source": [
    "path = C:\\Users\\user\\Desktop\\data\\data"
   ]
  },
  {
   "cell_type": "code",
   "execution_count": null,
   "id": "cea2fe88",
   "metadata": {},
   "outputs": [],
   "source": [
    "import pandas as pd\n",
    "import numpy as np"
   ]
  },
  {
   "cell_type": "code",
   "execution_count": null,
   "id": "4af5d47a",
   "metadata": {},
   "outputs": [],
   "source": [
    "Startups = pd.read_csv(\"50_Startups.csv\")\n",
    "S"
   ]
  },
  {
   "cell_type": "code",
   "execution_count": null,
   "id": "18a97981",
   "metadata": {},
   "outputs": [],
   "source": []
  },
  {
   "cell_type": "code",
   "execution_count": null,
   "id": "c4b63356",
   "metadata": {},
   "outputs": [],
   "source": []
  },
  {
   "cell_type": "code",
   "execution_count": null,
   "id": "f75bb3af",
   "metadata": {},
   "outputs": [],
   "source": []
  },
  {
   "cell_type": "code",
   "execution_count": null,
   "id": "15644c3f",
   "metadata": {},
   "outputs": [],
   "source": []
  },
  {
   "cell_type": "code",
   "execution_count": null,
   "id": "78b848ab",
   "metadata": {},
   "outputs": [],
   "source": []
  }
 ],
 "metadata": {
  "kernelspec": {
   "display_name": "Python 3 (ipykernel)",
   "language": "python",
   "name": "python3"
  },
  "language_info": {
   "codemirror_mode": {
    "name": "ipython",
    "version": 3
   },
   "file_extension": ".py",
   "mimetype": "text/x-python",
   "name": "python",
   "nbconvert_exporter": "python",
   "pygments_lexer": "ipython3",
   "version": "3.9.13"
  }
 },
 "nbformat": 4,
 "nbformat_minor": 5
}
